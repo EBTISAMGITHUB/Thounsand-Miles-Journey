{
 "cells": [
  {
   "cell_type": "markdown",
   "id": "181805b9",
   "metadata": {},
   "source": [
    "# Python code for calculate the user's remaining life\n",
    "\n",
    "### This is for First Fun Task:"
   ]
  },
  {
   "cell_type": "code",
   "execution_count": 7,
   "id": "0ea57632",
   "metadata": {},
   "outputs": [
    {
     "name": "stdout",
     "output_type": "stream",
     "text": [
      "What is your age ?90\n",
      "you have left $0 years and $0 months and $0 weeks and $0 days left on this earth\n"
     ]
    }
   ],
   "source": [
    "\n",
    "user_enter = int( input(\"What is your age ?\") )\n",
    "\n",
    "user_left = 90\n",
    "\n",
    "years_left = user_left - user_enter\n",
    "days_left = years_left * 365;\n",
    "week_left = years_left * 52;\n",
    "months_left = years_left * 12;\n",
    "\n",
    "print(f\"you have left ${years_left} years and ${months_left} months and ${week_left} weeks and ${days_left} days left on this earth\")\n"
   ]
  }
 ],
 "metadata": {
  "kernelspec": {
   "display_name": "Python 3 (ipykernel)",
   "language": "python",
   "name": "python3"
  },
  "language_info": {
   "codemirror_mode": {
    "name": "ipython",
    "version": 3
   },
   "file_extension": ".py",
   "mimetype": "text/x-python",
   "name": "python",
   "nbconvert_exporter": "python",
   "pygments_lexer": "ipython3",
   "version": "3.11.3"
  }
 },
 "nbformat": 4,
 "nbformat_minor": 5
}
